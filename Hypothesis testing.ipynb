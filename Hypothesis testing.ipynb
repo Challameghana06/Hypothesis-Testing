{
 "cells": [
  {
   "cell_type": "code",
   "execution_count": 1,
   "id": "3bdfba43-3b9b-4407-b0e4-8e7303c5d3a9",
   "metadata": {},
   "outputs": [],
   "source": [
    "import math"
   ]
  },
  {
   "cell_type": "code",
   "execution_count": 2,
   "id": "b2e49c89-a8a7-4141-aa8a-0548b7ed87ec",
   "metadata": {},
   "outputs": [],
   "source": [
    "from scipy import stats"
   ]
  },
  {
   "cell_type": "code",
   "execution_count": 3,
   "id": "d5c30a60-abe9-40b7-ae6d-c303488b7cd7",
   "metadata": {},
   "outputs": [],
   "source": [
    "# Chi-Square Test"
   ]
  },
  {
   "cell_type": "code",
   "execution_count": 4,
   "id": "b74777f7-4e7f-47a7-b79d-5ce665855347",
   "metadata": {},
   "outputs": [],
   "source": [
    "observed = [\n",
    "    [50, 70],   # Very Satisfied\n",
    "    [80, 100],  # Satisfied\n",
    "    [60, 90],   # Neutral\n",
    "    [30, 50],   # Unsatisfied\n",
    "    [20, 50]    # Very Unsatisfied\n",
    "]"
   ]
  },
  {
   "cell_type": "code",
   "execution_count": 5,
   "id": "57948804-e6c4-41a3-8e1e-d52909ac21b7",
   "metadata": {},
   "outputs": [
    {
     "name": "stdout",
     "output_type": "stream",
     "text": [
      "\n",
      "--- Chi-Square Test for Independence ---\n"
     ]
    }
   ],
   "source": [
    "print(\"\\n--- Chi-Square Test for Independence ---\")"
   ]
  },
  {
   "cell_type": "code",
   "execution_count": 6,
   "id": "ca57fb0f-0261-4747-a79e-08f852ffe923",
   "metadata": {},
   "outputs": [
    {
     "name": "stdout",
     "output_type": "stream",
     "text": [
      "Step 1: Hypotheses\n",
      "  H0: Device type and customer satisfaction are independent.\n",
      "  H1: Device type and customer satisfaction are not independent.\n"
     ]
    }
   ],
   "source": [
    "# Step 1: Hypotheses\n",
    "print(\"Step 1: Hypotheses\")\n",
    "print(\"  H0: Device type and customer satisfaction are independent.\")\n",
    "print(\"  H1: Device type and customer satisfaction are not independent.\")"
   ]
  },
  {
   "cell_type": "code",
   "execution_count": 7,
   "id": "3eab8674-e82b-47f1-a7d2-630853e94990",
   "metadata": {},
   "outputs": [],
   "source": [
    "# Step 2: Calculate expected values and chi-square\n",
    "row_totals = [sum(row) for row in observed]\n",
    "col_totals = [sum(col) for col in zip(*observed)]\n",
    "grand_total = sum(row_totals)"
   ]
  },
  {
   "cell_type": "code",
   "execution_count": 8,
   "id": "0e899e3b-57e4-4ec7-b401-0da31dec2c73",
   "metadata": {},
   "outputs": [],
   "source": [
    "# Calculate expected frequencies\n",
    "expected = []\n",
    "for i in range(len(observed)):\n",
    "    row_expected = []\n",
    "    for j in range(len(observed[0])):\n",
    "        e = row_totals[i] * col_totals[j] / grand_total\n",
    "        row_expected.append(e)\n",
    "    expected.append(row_expected)"
   ]
  },
  {
   "cell_type": "code",
   "execution_count": 9,
   "id": "59819d02-d385-46c9-b34d-bf8994d8d7e2",
   "metadata": {},
   "outputs": [],
   "source": [
    "# Compute chi-square statistic\n",
    "chi_square = 0\n",
    "for i in range(len(observed)):\n",
    "    for j in range(len(observed[0])):\n",
    "        o = observed[i][j]\n",
    "        e = expected[i][j]\n",
    "        chi_square += (o - e) ** 2 / e"
   ]
  },
  {
   "cell_type": "code",
   "execution_count": 10,
   "id": "c416407d-a281-4a97-a6c8-320911163e7b",
   "metadata": {},
   "outputs": [],
   "source": [
    "# Degrees of freedom\n",
    "dof = (len(observed) - 1) * (len(observed[0]) - 1)"
   ]
  },
  {
   "cell_type": "code",
   "execution_count": 11,
   "id": "1300e3e8-19a6-4072-b258-b9723a289e1f",
   "metadata": {},
   "outputs": [],
   "source": [
    "# Step 3: Critical value\n",
    "alpha = 0.05\n",
    "critical_value = stats.chi2.ppf(1 - alpha, dof)"
   ]
  },
  {
   "cell_type": "code",
   "execution_count": 12,
   "id": "7ae4b7a0-36c3-4435-bc5c-e3c7afc8cda1",
   "metadata": {},
   "outputs": [
    {
     "name": "stdout",
     "output_type": "stream",
     "text": [
      "\n",
      "Step 2: Chi-Square Statistic = 5.6382\n",
      "Step 3: Critical Value (α=0.05, df=4) = 9.4877\n",
      "Step 4: Fail to Reject H0 → No significant association.\n",
      "Explanation: The chi-square value is smaller than the critical value, so satisfaction does not depend on device type.\n",
      "\n"
     ]
    }
   ],
   "source": [
    "# Step 4: Decision\n",
    "print(\"\\nStep 2: Chi-Square Statistic = {:.4f}\".format(chi_square))\n",
    "print(\"Step 3: Critical Value (α=0.05, df={}) = {:.4f}\".format(dof, critical_value))\n",
    "if chi_square > critical_value:\n",
    "    print(\"Step 4: Reject H0 → There is a significant association.\")\n",
    "else:\n",
    "    print(\"Step 4: Fail to Reject H0 → No significant association.\")\n",
    "print(\"Explanation: The chi-square value is smaller than the critical value, so satisfaction does not depend on device type.\\n\")"
   ]
  },
  {
   "cell_type": "markdown",
   "id": "96001a2d-cb32-48bb-800c-7a6af3812d48",
   "metadata": {},
   "source": [
    "Chi-Square Test:\n",
    "The chi-square value (≈ 5.64) is smaller than the critical value (≈ 9.49). This means we fail to reject H₀ → customer satisfaction does not depend on device type."
   ]
  },
  {
   "cell_type": "code",
   "execution_count": 13,
   "id": "97cc4d52-2661-4209-b53d-3fd5acc0eac6",
   "metadata": {},
   "outputs": [],
   "source": [
    "# Part 2: Hypothesis Test"
   ]
  },
  {
   "cell_type": "code",
   "execution_count": 14,
   "id": "0a029bc6-2611-4507-9dcc-75921fb8f7f4",
   "metadata": {},
   "outputs": [
    {
     "name": "stdout",
     "output_type": "stream",
     "text": [
      "--- Hypothesis Test for Weekly Costs ---\n"
     ]
    }
   ],
   "source": [
    "print(\"--- Hypothesis Test for Weekly Costs ---\")"
   ]
  },
  {
   "cell_type": "code",
   "execution_count": 15,
   "id": "96fd4a18-34d6-481d-8c42-212e51c3c8dc",
   "metadata": {},
   "outputs": [
    {
     "name": "stdout",
     "output_type": "stream",
     "text": [
      "Step 1: Hypotheses\n",
      "  H0: The weekly cost follows the model (μ = 4000).\n",
      "  H1: The weekly cost is higher than the model (μ > 4000).\n"
     ]
    }
   ],
   "source": [
    "# Step 1: Hypotheses\n",
    "print(\"Step 1: Hypotheses\")\n",
    "print(\"  H0: The weekly cost follows the model (μ = 4000).\")\n",
    "print(\"  H1: The weekly cost is higher than the model (μ > 4000).\")\n"
   ]
  },
  {
   "cell_type": "code",
   "execution_count": 16,
   "id": "266d7306-b4ab-49ce-b8a6-87a3f2d6d9c3",
   "metadata": {},
   "outputs": [],
   "source": [
    "# Given values\n",
    "sample_mean = 3050     # from data\n",
    "n = 25\n",
    "x_mean = 600           # units produced\n",
    "sigma_x = 25"
   ]
  },
  {
   "cell_type": "code",
   "execution_count": 17,
   "id": "dd62572b-502c-4e81-b8c2-42b5e14eaf82",
   "metadata": {},
   "outputs": [],
   "source": [
    "# Theoretical mean and standard deviation\n",
    "theoretical_mean = 1000 + 5 * x_mean   # W = 1000 + 5X\n",
    "sigma_w = 5 * sigma_x                  # standard deviation\n",
    "se = sigma_w / math.sqrt(n)            # standard error"
   ]
  },
  {
   "cell_type": "code",
   "execution_count": null,
   "id": "e2cb9ce7-b23f-49be-af1a-bd07f4ab9b08",
   "metadata": {},
   "outputs": [],
   "source": []
  },
  {
   "cell_type": "code",
   "execution_count": null,
   "id": "7389f1b9-4f38-4096-b052-6a3f3080a396",
   "metadata": {},
   "outputs": [],
   "source": [
    "# Theoretical mean and standard deviation\n",
    "theoretical_mean = 1000 + 5 * x_mean   # W = 1000 + 5X\n",
    "sigma_w = 5 * sigma_x                  # standard deviation\n",
    "se = sigma_w / math.sqrt(n)            # standard error\n",
    "\n",
    "# Step 2: Test statistic\n",
    "z = (sample_mean - theoretical_mean) / se\n",
    "\n",
    "# Step 3: Critical value (z table, one-tailed, α=0.05)\n",
    "critical_z = stats.norm.ppf(1 - alpha)\n",
    "\n",
    "# Step 4: Decision\n",
    "print(\"\\nStep 2: Z Statistic = {:.4f}\".format(z))\n",
    "print(\"Step 3: Critical Z (α=0.05, one-tailed) = {:.4f}\".format(critical_z))\n",
    "\n",
    "if z > critical_z:\n",
    "    print(\"Step 4: Reject H0 → Costs are significantly higher.\")\n",
    "else:\n",
    "    print(\"Step 4: Fail to Reject H0 → No evidence that costs are higher.\")\n",
    "\n",
    "print(\"Explanation: The sample mean is lower than the theoretical mean, so there’s no proof costs increased.\\n\")"
   ]
  },
  {
   "cell_type": "markdown",
   "id": "a0c95728-4707-46e0-8b3a-6d8bf5e9d474",
   "metadata": {},
   "source": [
    "Hypothesis Test:\n",
    "The Z value (≈ -38.0) is far below the critical value (≈ 1.65). This means we fail to reject H₀ → no evidence that weekly costs are higher than the model predicts."
   ]
  }
 ],
 "metadata": {
  "kernelspec": {
   "display_name": "Python 3 (ipykernel)",
   "language": "python",
   "name": "python3"
  },
  "language_info": {
   "codemirror_mode": {
    "name": "ipython",
    "version": 3
   },
   "file_extension": ".py",
   "mimetype": "text/x-python",
   "name": "python",
   "nbconvert_exporter": "python",
   "pygments_lexer": "ipython3",
   "version": "3.12.7"
  }
 },
 "nbformat": 4,
 "nbformat_minor": 5
}
